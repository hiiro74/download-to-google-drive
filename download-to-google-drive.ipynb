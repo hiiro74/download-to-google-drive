{
  "nbformat": 4,
  "nbformat_minor": 2,
  "metadata": {
    "colab": {
      "name": "Download To Google Drive",
      "provenance": [],
      "collapsed_sections": []
    },
    "kernelspec": {
      "display_name": "Python 3",
      "language": "python",
      "name": "python3"
    }
  },
  "cells": [
    {
      "cell_type": "markdown",
      "source": [
        "# Download To Google Drive "
      ],
      "metadata": {
        "id": "aQuWDmfm9YOi"
      }
    },
    {
      "cell_type": "markdown",
      "source": [
        "Let's download files directly to your preferred Google Drive folder from Remote URLs.\r\n",
        "<br>\r\n",
        "\r\n",
        "*   Open this notebook with Google Colab. Just click the button below.<br>\r\n",
        "\r\n",
        "    <a href=\"https://colab.research.google.com/github/towsif031/download-to-google-drive/blob/main/download-to-google-drive.ipynb\" target=\"_parent\"><img src=\"https://colab.research.google.com/assets/colab-badge.svg\" alt=\"Open In Colab\"/></a>\r\n",
        "<br/><br/>\r\n",
        "*   Run below cells sequentially,\r\n",
        "*   Follow display instructions.\r\n",
        "\r\n"
      ],
      "metadata": {
        "id": "z826gvsCy-km"
      }
    },
    {
      "cell_type": "markdown",
      "source": [
        "### Mount your Google Drive"
      ],
      "metadata": {
        "id": "Uf90U73y9YOj"
      }
    },
    {
      "cell_type": "code",
      "execution_count": null,
      "source": [
        "from google.colab import drive\r\n",
        "\r\n",
        "drive.mount(\"/content/drive\")"
      ],
      "outputs": [],
      "metadata": {
        "id": "oWM9l2fvtuvO"
      }
    },
    {
      "cell_type": "markdown",
      "source": [
        "### Select download location\r\n"
      ],
      "metadata": {
        "id": "R_1XuuIf9YOn"
      }
    },
    {
      "cell_type": "code",
      "execution_count": null,
      "source": [
        "import os\r\n",
        "os.chdir(\"/content/drive/MyDrive/\")\r\n",
        "print('Download location selected.')"
      ],
      "outputs": [],
      "metadata": {
        "id": "0et2A6N3udA0"
      }
    },
    {
      "cell_type": "markdown",
      "source": [
        "\n",
        "\n",
        "---\n",
        "\n"
      ],
      "metadata": {
        "id": "0Q9BGMTjnKhL"
      }
    },
    {
      "cell_type": "markdown",
      "source": [
        "### Let's download"
      ],
      "metadata": {
        "id": "YJmkwlIHnIvw"
      }
    },
    {
      "cell_type": "code",
      "execution_count": null,
      "source": [
        "import os\r\n",
        "import posixpath\r\n",
        "import requests\r\n",
        "import time\r\n",
        "import sys\r\n",
        "try:\r\n",
        "    from urlparse import urlsplit\r\n",
        "    from urllib import unquote\r\n",
        "except ImportError: # Python 3\r\n",
        "    from urllib.parse import urlsplit, unquote\r\n",
        "\r\n",
        "links = []\r\n",
        "last_index = (len(links) - 1)\r\n",
        "download_ok = True\r\n",
        "\r\n",
        "\r\n",
        "# get filename\r\n",
        "def url_to_filename(file_url):\r\n",
        "    urlpath = urlsplit(file_url).path\r\n",
        "    basename = posixpath.basename(unquote(urlpath))\r\n",
        "    if (os.path.basename(basename) != basename or\r\n",
        "        unquote(posixpath.basename(urlpath)) != basename):\r\n",
        "        raise ValueError\r\n",
        "    return basename\r\n",
        "\r\n",
        "\r\n",
        "# download function\r\n",
        "def get_downloads(file_download_url):\r\n",
        "    try:\r\n",
        "        current_filename = url_to_filename(file_download_url)\r\n",
        "        start = time.perf_counter()\r\n",
        "        \r\n",
        "        with open(current_filename, \"wb\") as f:\r\n",
        "            print(f\"        Downloading [{current_filename}]\")\r\n",
        "            response = requests.get(file_download_url, stream=True)\r\n",
        "            total_length = response.headers.get('content-length')\r\n",
        "\r\n",
        "            if total_length is None: # no content length header\r\n",
        "                f.write(response.content)\r\n",
        "            else:\r\n",
        "                current = 0\r\n",
        "                total_length = int(total_length)\r\n",
        "                for data in response.iter_content(chunk_size=4096):\r\n",
        "                    current += len(data)\r\n",
        "                    f.write(data)\r\n",
        "                    done = int(50 * current / total_length)\r\n",
        "                    downloadPercentage = int(current / total_length * 100)\r\n",
        "                    downloadedSize = round((current / 1048576), 2)\r\n",
        "                    timePassed = time.perf_counter() - start\r\n",
        "                    downloadSpeed = round((downloadedSize / timePassed), 2)\r\n",
        "                    totalSize = round((total_length / 1048576), 2)\r\n",
        "\r\n",
        "                    sys.stdout.write(f\"\\r   [{'#' * done}{' ' * (50-done)}] {downloadPercentage}%  |  Downloaded: [{downloadedSize} MB / {totalSize} MB]  |  Speed: {downloadSpeed} MB/s\")\r\n",
        "                    sys.stdout.flush()\r\n",
        "\r\n",
        "        print(f\"\\n        file #{links.index(file_download_url) + 1} download complete.\")\r\n",
        "    \r\n",
        "    except:\r\n",
        "        global download_ok\r\n",
        "        download_ok = False\r\n",
        "        print(\"\\nSomething went wrong!\\n\")\r\n",
        "\r\n",
        "\r\n",
        "# start downloads function\r\n",
        "def start_download(confirm_start):\r\n",
        "    if confirm_start == 'y':\r\n",
        "        print(\"\\nStarting download process...\")\r\n",
        "        for link in links:\r\n",
        "            if link != 'exit':\r\n",
        "                print(f\"file #{links.index(link) + 1}:\")\r\n",
        "                get_downloads(link)\r\n",
        "            else:\r\n",
        "                global download_ok\r\n",
        "                if download_ok:\r\n",
        "                    print(\"\\nEverything downloaded successfully!\")\r\n",
        "    else:\r\n",
        "        print(\"\\nOK! Run the program again if something else to download.\\n\")\r\n",
        "\r\n",
        "\r\n",
        "# main function\r\n",
        "def main():\r\n",
        "    print(\"\\n *** Download To Google Drive ***\\n\")\r\n",
        "    print(\"Enter 'exit' if nothing else to download.\\n\")\r\n",
        "\r\n",
        "    download_url = input(\"file #1: Enter download url: \")\r\n",
        "\r\n",
        "    links.append(download_url)\r\n",
        "\r\n",
        "    while download_url != 'exit':\r\n",
        "        download_url = input(f\"file #{len(links) + 1}: Enter download url: \")\r\n",
        "        links.append(download_url)\r\n",
        "\r\n",
        "    confirm_start = input(\"\\nStart downloads? Enter 'y' to agree: \")\r\n",
        "\r\n",
        "    # start process\r\n",
        "    start_download(confirm_start);\r\n",
        "\r\n",
        "\r\n",
        "if __name__ == '__main__':\r\n",
        "    main()"
      ],
      "outputs": [],
      "metadata": {
        "id": "T0jxeXYQpzaZ"
      }
    },
    {
      "cell_type": "markdown",
      "source": [
        "\r\n",
        "\r\n",
        "---\r\n",
        "\r\n"
      ],
      "metadata": {
        "id": "ibqt8C5xxLQh"
      }
    },
    {
      "cell_type": "markdown",
      "source": [
        "### Fix file extensions\r\n",
        "Files downloaded from indirect URL sometimes doesn't get saved with their appropriate extensions.\r\n",
        "<br>\r\n",
        "\r\n",
        "To fix those files...\r\n",
        "\r\n",
        "*   Run below cells sequentially\r\n",
        "\r\n"
      ],
      "metadata": {
        "id": "tf7DNXjvxMLv"
      }
    },
    {
      "cell_type": "code",
      "execution_count": null,
      "source": [
        "pip install filetype"
      ],
      "outputs": [],
      "metadata": {
        "id": "f3A66k0HxN6R"
      }
    },
    {
      "cell_type": "code",
      "execution_count": null,
      "source": [
        "import os\r\n",
        "import filetype\r\n",
        "import pathlib\r\n",
        "\r\n",
        "current_path = pathlib.Path().absolute()\r\n",
        "print(current_path)\r\n",
        "\r\n",
        "file_list = os.listdir()\r\n",
        "print(file_list)\r\n",
        "\r\n",
        "\r\n",
        "def get_missing_extension():\r\n",
        "    for file in file_list:\r\n",
        "        if not os.path.splitext(file)[1]:\r\n",
        "            print(file)\r\n",
        "            filename = file\r\n",
        "            kind = filetype.guess(f\"{current_path}/{filename}\")\r\n",
        "            if kind is None:\r\n",
        "                print('Cannot guess file type!')\r\n",
        "                return\r\n",
        "            # print(f\"{current_path}/{filename}\")\r\n",
        "            print(f\"\\nExtension of {file}: {kind.extension}\")\r\n",
        "            print(f\"MIME type of {file}: {kind.mime}\\n\")\r\n",
        "\r\n",
        "            file_extension = '.' + kind.extension\r\n",
        "            new_filename = filename + file_extension\r\n",
        "            os.rename(filename, new_filename)\r\n",
        "\r\n",
        "\r\n",
        "def main():\r\n",
        "    get_missing_extension()\r\n",
        "    new_file_list = os.listdir()\r\n",
        "    print(new_file_list)\r\n",
        "\r\n",
        "\r\n",
        "if __name__ == '__main__':\r\n",
        "    main()"
      ],
      "outputs": [],
      "metadata": {
        "id": "KdS98YZzxQfH"
      }
    },
    {
      "cell_type": "markdown",
      "source": [
        "\n",
        "\n",
        "---\n",
        "\n"
      ],
      "metadata": {
        "id": "WUUrmu300AT0"
      }
    },
    {
      "cell_type": "markdown",
      "source": [
        "# That's it!"
      ],
      "metadata": {
        "id": "NZpItflz0CsB"
      }
    }
  ]
}