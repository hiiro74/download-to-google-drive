{
  "nbformat": 4,
  "nbformat_minor": 0,
  "metadata": {
    "colab": {
      "name": "d2gd-test.ipynb",
      "provenance": [],
      "collapsed_sections": []
    },
    "kernelspec": {
      "display_name": "Python 3",
      "language": "python",
      "name": "python3"
    }
  },
  "cells": [
    {
      "cell_type": "markdown",
      "metadata": {
        "id": "aQuWDmfm9YOi"
      },
      "source": [
        "# Download To Google Drive "
      ]
    },
    {
      "cell_type": "markdown",
      "metadata": {
        "id": "z826gvsCy-km"
      },
      "source": [
        "Let's download files directly to your preferred Google Drive folder from Remote URLs.\n",
        "<br>\n",
        "\n",
        "*   Run below cells sequentially,\n",
        "*   Follow display instructions.\n",
        "\n"
      ]
    },
    {
      "cell_type": "markdown",
      "metadata": {
        "id": "Uf90U73y9YOj"
      },
      "source": [
        "### Mount your Google Drive"
      ]
    },
    {
      "cell_type": "code",
      "metadata": {
        "id": "oWM9l2fvtuvO"
      },
      "source": [
        "from google.colab import drive\n",
        "\n",
        "drive.mount(\"/content/drive\")"
      ],
      "execution_count": null,
      "outputs": []
    },
    {
      "cell_type": "markdown",
      "metadata": {
        "id": "R_1XuuIf9YOn"
      },
      "source": [
        "### Select download location\n"
      ]
    },
    {
      "cell_type": "code",
      "metadata": {
        "id": "0et2A6N3udA0"
      },
      "source": [
        "import os\n",
        "os.chdir(\"/content/drive/My Drive/downloads\")\n",
        "print('Download location selected.')"
      ],
      "execution_count": null,
      "outputs": []
    },
    {
      "cell_type": "markdown",
      "metadata": {
        "id": "0Q9BGMTjnKhL"
      },
      "source": [
        "\n",
        "\n",
        "---\n",
        "\n"
      ]
    },
    {
      "cell_type": "markdown",
      "metadata": {
        "id": "YJmkwlIHnIvw"
      },
      "source": [
        "###Let's download"
      ]
    },
    {
      "cell_type": "code",
      "metadata": {
        "id": "T0jxeXYQpzaZ"
      },
      "source": [
        "import os\n",
        "import posixpath\n",
        "import requests\n",
        "import time\n",
        "import sys\n",
        "try:\n",
        "    from urlparse import urlsplit\n",
        "    from urllib import unquote\n",
        "except ImportError: # Python 3\n",
        "    from urllib.parse import urlsplit, unquote\n",
        "\n",
        "links = []\n",
        "last_index = (len(links) - 1)\n",
        "download_ok = True\n",
        "\n",
        "\n",
        "# get filename\n",
        "def url_to_filename(file_url):\n",
        "    urlpath = urlsplit(file_url).path\n",
        "    basename = posixpath.basename(unquote(urlpath))\n",
        "    if (os.path.basename(basename) != basename or\n",
        "        unquote(posixpath.basename(urlpath)) != basename):\n",
        "        raise ValueError\n",
        "    return basename\n",
        "\n",
        "\n",
        "# download function\n",
        "def get_downloads(file_download_url):\n",
        "    try:\n",
        "        current_filename = url_to_filename(file_download_url)\n",
        "        start = time.perf_counter()\n",
        "        \n",
        "        with open(current_filename, \"wb\") as f:\n",
        "            print(f\"        Downloading [{current_filename}]\")\n",
        "            response = requests.get(file_download_url, stream=True)\n",
        "            total_length = response.headers.get('content-length')\n",
        "\n",
        "            if total_length is None: # no content length header\n",
        "                f.write(response.content)\n",
        "            else:\n",
        "                current = 0\n",
        "                total_length = int(total_length)\n",
        "                for data in response.iter_content(chunk_size=4096):\n",
        "                    current += len(data)\n",
        "                    f.write(data)\n",
        "                    done = int(50 * current / total_length)\n",
        "                    downloadPercentage = int(current / total_length * 100)\n",
        "                    downloadedSize = round((current / 1048576), 2)\n",
        "                    timePassed = time.perf_counter() - start\n",
        "                    downloadSpeed = round((downloadedSize / timePassed), 2)\n",
        "                    totalSize = round((total_length / 1048576), 2)\n",
        "\n",
        "                    sys.stdout.write(f\"\\r   [{'#' * done}{' ' * (50-done)}] {downloadPercentage}%  |  Downloaded: [{downloadedSize} MB / {totalSize} MB]  |  Speed: {downloadSpeed} MB/s\")\n",
        "                    sys.stdout.flush()\n",
        "\n",
        "        print(f\"\\n        file #{links.index(file_download_url) + 1} download complete.\")\n",
        "    \n",
        "    except:\n",
        "        global download_ok\n",
        "        download_ok = False\n",
        "        print(\"\\nSomething went wrong!\\n\")\n",
        "\n",
        "\n",
        "# start downloads function\n",
        "def start_download(confirm_start):\n",
        "    if confirm_start == 'y':\n",
        "        print(\"\\nStarting download process...\")\n",
        "        for link in links:\n",
        "            if link != 'exit':\n",
        "                print(f\"file #{links.index(link) + 1}:\")\n",
        "                get_downloads(link)\n",
        "            else:\n",
        "                global download_ok\n",
        "                if download_ok:\n",
        "                    print(\"\\nEverything downloaded successfully!\")\n",
        "    else:\n",
        "        print(\"\\nOK! Run the program again if something else to download.\\n\")\n",
        "\n",
        "\n",
        "# main function\n",
        "def main():\n",
        "    print(\"\\n *** D2GD ***\\n\")\n",
        "    print(\"Enter 'exit' in nothing else to download.\\n\")\n",
        "\n",
        "    download_url = input(\"file #1: Enter download url: \")\n",
        "\n",
        "    links.append(download_url)\n",
        "\n",
        "    while download_url != 'exit':\n",
        "        download_url = input(f\"file #{len(links) + 1}: Enter download url: \")\n",
        "        links.append(download_url)\n",
        "\n",
        "    confirm_start = input(\"\\nStart downloads? Enter 'y' to agree: \")\n",
        "\n",
        "    # start process\n",
        "    start_download(confirm_start);\n",
        "\n",
        "\n",
        "if __name__ == '__main__':\n",
        "    main()"
      ],
      "execution_count": null,
      "outputs": []
    },
    {
      "cell_type": "markdown",
      "metadata": {
        "id": "ibqt8C5xxLQh"
      },
      "source": [
        "\n",
        "\n",
        "---\n",
        "\n"
      ]
    },
    {
      "cell_type": "markdown",
      "metadata": {
        "id": "tf7DNXjvxMLv"
      },
      "source": [
        "###Fix file extensions\n",
        "Files downloaded from indirect URL sometimes doesn't get saved with their appropriate extensions.\n",
        "<br>\n",
        "\n",
        "To fix those files...\n",
        "\n",
        "*   Run below cells sequentially\n",
        "\n"
      ]
    },
    {
      "cell_type": "code",
      "metadata": {
        "id": "f3A66k0HxN6R"
      },
      "source": [
        "pip install filetype"
      ],
      "execution_count": null,
      "outputs": []
    },
    {
      "cell_type": "code",
      "metadata": {
        "id": "KdS98YZzxQfH"
      },
      "source": [
        "import os\n",
        "import filetype\n",
        "import pathlib\n",
        "\n",
        "current_path = pathlib.Path().absolute()\n",
        "print(current_path)\n",
        "\n",
        "file_list = os.listdir()\n",
        "print(file_list)\n",
        "\n",
        "\n",
        "def get_missing_extension():\n",
        "    for file in file_list:\n",
        "        if not os.path.splitext(file)[1]:\n",
        "            print(file)\n",
        "            filename = file\n",
        "            kind = filetype.guess(f\"{current_path}/{filename}\")\n",
        "            if kind is None:\n",
        "                print('Cannot guess file type!')\n",
        "                return\n",
        "            # print(f\"{current_path}/{filename}\")\n",
        "            print(f\"\\nExtension of {file}: {kind.extension}\")\n",
        "            print(f\"MIME type of {file}: {kind.mime}\\n\")\n",
        "\n",
        "            file_extension = '.' + kind.extension\n",
        "            new_filename = filename + file_extension\n",
        "            os.rename(filename, new_filename)\n",
        "\n",
        "\n",
        "def main():\n",
        "    get_missing_extension()\n",
        "    new_file_list = os.listdir()\n",
        "    print(new_file_list)\n",
        "\n",
        "\n",
        "if __name__ == '__main__':\n",
        "    main()"
      ],
      "execution_count": null,
      "outputs": []
    },
    {
      "cell_type": "markdown",
      "metadata": {
        "id": "WUUrmu300AT0"
      },
      "source": [
        "\n",
        "\n",
        "---\n",
        "\n"
      ]
    },
    {
      "cell_type": "markdown",
      "metadata": {
        "id": "NZpItflz0CsB"
      },
      "source": [
        "#That's it!"
      ]
    }
  ]
}